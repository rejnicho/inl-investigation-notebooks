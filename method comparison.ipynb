{
 "cells": [
  {
   "cell_type": "code",
   "execution_count": 1,
   "id": "5b94c9b0",
   "metadata": {},
   "outputs": [],
   "source": [
    "import numpy as np \n",
    "import matplotlib.pyplot as plt\n",
    "import pickle as pkl\n",
    "import scipy.interpolate\n",
    "import time\n",
    "from scipy.signal import savgol_filter\n",
    "import copy"
   ]
  },
  {
   "cell_type": "code",
   "execution_count": 2,
   "id": "ace52ea3",
   "metadata": {},
   "outputs": [
    {
     "name": "stdout",
     "output_type": "stream",
     "text": [
      "dict_keys(['C10', 'C11', 'C12', 'C13', 'C14', 'C15', 'C16', 'C17', 'C07', 'C06', 'C05', 'C04', 'C03', 'C02', 'C01', 'C00'])\n"
     ]
    }
   ],
   "source": [
    "superhist = \"histdataset1.pkl\"\n",
    "with open(superhist, \"rb\") as f:\n",
    "    ds = pkl.load(f)\n",
    "\n",
    "keys = ds.keys()\n",
    "print(keys)\n",
    "\n",
    "#in making the superhistogram, I only saved the data between 26500 and 103000 (see makehist line 237) \n",
    "#making the first bin 26500 as the left edge \n",
    "\n",
    "countarr = ds[\"C10\"] #strictly the compiled im_arr of all the images \n",
    "mbins = np.arange(26500, 26500+len(countarr)) #built into the dataset \n",
    "\n",
    "#choose to start the data at 30k, but since the cubic spline interpolation does a poor job outside datapoints \n",
    "#the first datapoint would be at 30,000.5, and would cause issue in 30k-30,000.5\n",
    "\n",
    "start = np.argwhere(mbins == 29999) \n",
    "\n",
    "termcountarr = countarr[start[0][0]:] #this starts histogram at 29,999\n",
    "termbins = mbins[start[0][0]:] #this is the adc codes which this is valid for"
   ]
  },
  {
   "cell_type": "code",
   "execution_count": 3,
   "id": "3af33ac3",
   "metadata": {},
   "outputs": [],
   "source": [
    "def examineinl(edges, binsnum, edgemethodname): #here binsnum is binnumbers \n",
    "    idealmids = 0.5 + binsnum\n",
    "    adcmids = [sum(i) for i in zip(edges[1:], edges[:-1])] #add together elements\n",
    "    adcmids[:] = [x / 2 for x in adcmids] #find their mean, verified 3 entires, sufficient\n",
    "    arraymids = np.array(adcmids)*(-1) \n",
    "    inl = [sum(i) for i in zip(idealmids, arraymids)]\n",
    "    plt.plot(binsnum, inl, color='black', label='inl')\n",
    "    plt.title(f'{edgemethodname} inl by bin number')\n",
    "    plt.xlabel(\"bin number\")\n",
    "    plt.ylabel(\"inl\")\n",
    "    plt.legend()\n",
    "    plt.grid()\n",
    "    return inl \n",
    "\n",
    "def makenarrow(bcvar, right, left):\n",
    "    width = right - left\n",
    "    width *= (1-bcvar) #reduce the width of the bin \n",
    "    right = width + left \n",
    "    bcvar *= 0.85 #make the change amount reduced by 85% \n",
    "    return right, bcvar\n",
    "    \n",
    "def makewide(bcvar, right, left): #function increases the bin width \n",
    "    width = right - left\n",
    "    width *= (1+bcvar) #increase the width of the bin \n",
    "    right = width + left \n",
    "    bcvar *= 0.85 \n",
    "    return right, bcvar\n"
   ]
  },
  {
   "cell_type": "markdown",
   "id": "abcfa490",
   "metadata": {},
   "source": [
    "## Cumulative sum binning"
   ]
  },
  {
   "cell_type": "code",
   "execution_count": 4,
   "id": "c0056331",
   "metadata": {},
   "outputs": [],
   "source": [
    "def makeedges(counts, spline):\n",
    "    edges = [30000]\n",
    "    for a in range(len(counts)):\n",
    "        left = edges[-1]\n",
    "        if left > 102999.5: #prevent interpolation beyond what we have for bins\n",
    "            break\n",
    "        Fr = counts[a] + spline(left) #F(r)= cs(right),\n",
    "\n",
    "        right = left + 1 #standard bin width = 1\n",
    "        cv = spline(right) #current value, based on current right edge\n",
    "        \n",
    "        bcvar = 0.25 #bin change variable (start with 25% change)  \n",
    "        \n",
    "        while len(edges) != a+2: \n",
    "            if Fr-0.01 < cv < Fr +0.01: #specify the requirement\n",
    "                edges.append(right)\n",
    "            \n",
    "            elif cv < Fr: #bin is too small, widen right edge\n",
    "                right, bcvar = makewide(bcvar, right, left)\n",
    "                cv = spline(right)\n",
    "            \n",
    "            elif cv > Fr:  #bin is too big, reduce right edge\n",
    "                right, bcvar = makenarrow(bcvar, right, left)\n",
    "                cv = spline(right)\n",
    "    return edges"
   ]
  },
  {
   "cell_type": "code",
   "execution_count": 5,
   "id": "bc410992",
   "metadata": {},
   "outputs": [],
   "source": [
    "smoothed = savgol_filter(termcountarr, 33, 3)\n",
    "cumulsum = np.cumsum(smoothed)\n",
    "#take the bin values to be at the center of the bin\n",
    "cs = scipy.interpolate.CubicSpline(termbins +0.5, cumulsum) #spline fitting for the cumulative values \n",
    "csx = np.arange(29999, 29999+len(termbins), 0.1)"
   ]
  },
  {
   "cell_type": "code",
   "execution_count": 6,
   "id": "63f69a3b",
   "metadata": {},
   "outputs": [
    {
     "name": "stdout",
     "output_type": "stream",
     "text": [
      "-986.2974393963814\n"
     ]
    }
   ],
   "source": [
    "smoothedsum = cumulsum[-1] #the last element is the total \n",
    "countsum = sum(termcountarr) #add all elements together \n",
    "print(smoothedsum - countsum)"
   ]
  },
  {
   "cell_type": "code",
   "execution_count": 7,
   "id": "e381670d",
   "metadata": {},
   "outputs": [
    {
     "name": "stdout",
     "output_type": "stream",
     "text": [
      "the runtime is: 22.869539976119995\n"
     ]
    }
   ],
   "source": [
    "start = time.time()\n",
    "edges = makeedges(termcountarr[1:], cs) #exclude 29999 to start the array at 30k\n",
    "end = time.time()\n",
    "print(\"the runtime is:\", end - start)"
   ]
  },
  {
   "cell_type": "code",
   "execution_count": 8,
   "id": "53e1e7d0",
   "metadata": {},
   "outputs": [
    {
     "data": {
      "image/png": "[encoded data removed]",
      "text/plain": [
       "<Figure size 432x288 with 1 Axes>"
      ]
     },
     "metadata": {
      "needs_background": "light"
     },
     "output_type": "display_data"
    }
   ],
   "source": [
    "inlbins = 30000 + np.arange(0, len(edges)-1)\n",
    "inl = examineinl(edges, inlbins, \"cumulative sum binning method\")"
   ]
  },
  {
   "cell_type": "markdown",
   "id": "3c8d2712",
   "metadata": {},
   "source": [
    "note that this looks surprisingly like a previous inl plot when I fit a spline to the termcountarr then used the integration method (seen below, but below I use it properly on the filtered array)."
   ]
  },
  {
   "cell_type": "markdown",
   "id": "fef10369",
   "metadata": {},
   "source": [
    "## Integrate edges binning\n",
    "(for reference) investigate spline fitting method 2 "
   ]
  },
  {
   "cell_type": "code",
   "execution_count": 9,
   "id": "d8cba0a1",
   "metadata": {},
   "outputs": [],
   "source": [
    "csint = scipy.interpolate.CubicSpline(termbins +0.5, smoothed)"
   ]
  },
  {
   "cell_type": "code",
   "execution_count": 10,
   "id": "93e9d811",
   "metadata": {},
   "outputs": [],
   "source": [
    "def buildedges(cs, counts): #reduces\n",
    "    edges = [30000] #define the first edge to be 30k \n",
    "    for a in range(len(counts)): \n",
    "        left = edges[-1]\n",
    "        if left > 103000: #prevent interpolation beyond what we have for values\n",
    "            break\n",
    "        inte = cs.integrate(left, left+1) #generically make the width = 1        \n",
    "        right = left + 1 \n",
    "        x = 0 #a counter for issues \n",
    "        bcvar = 0.25 #bin change variable (start with 25% change)\n",
    "        while len(edges) != a+2: \n",
    "            if counts[a]-0.01 < inte < counts[a] +0.01: #make the requirement sufficient\n",
    "                edges.append(right)  \n",
    "            elif counts[a] > inte: #bin is too small, widen right edge\n",
    "                right, bcvar = makewide(bcvar, right, left)\n",
    "                inte = cs.integrate(left, right)       \n",
    "            elif counts[a] < inte:  #bin is too big\n",
    "                right, bcvar = makenarrow(bcvar, right, left)\n",
    "                inte = cs.integrate(left, right)\n",
    "            x +=1 \n",
    "    return edges"
   ]
  },
  {
   "cell_type": "code",
   "execution_count": 11,
   "id": "53438b92",
   "metadata": {},
   "outputs": [
    {
     "name": "stdout",
     "output_type": "stream",
     "text": [
      "time passed 39.894469022750854\n"
     ]
    }
   ],
   "source": [
    "st = time.time()\n",
    "intedges = buildedges(csint, termcountarr[1:])\n",
    "en = time.time()\n",
    "print(\"time passed\", en-st)"
   ]
  },
  {
   "cell_type": "code",
   "execution_count": 12,
   "id": "d43b92a1",
   "metadata": {},
   "outputs": [
    {
     "data": {
      "image/png": "[encoded data removed]",
      "text/plain": [
       "<Figure size 432x288 with 1 Axes>"
      ]
     },
     "metadata": {
      "needs_background": "light"
     },
     "output_type": "display_data"
    }
   ],
   "source": [
    "bins = 30000 + np.arange(0, len(intedges)-1)\n",
    "intinl = examineinl(intedges, bins, \"spline fitting integration\")"
   ]
  },
  {
   "cell_type": "code",
   "execution_count": null,
   "id": "6a9971b8",
   "metadata": {},
   "outputs": [],
   "source": []
  },
  {
   "cell_type": "code",
   "execution_count": null,
   "id": "622794c7",
   "metadata": {},
   "outputs": [],
   "source": []
  }
 ],
 "metadata": {
  "kernelspec": {
   "display_name": "Python 3 (ipykernel)",
   "language": "python",
   "name": "python3"
  },
  "language_info": {
   "codemirror_mode": {
    "name": "ipython",
    "version": 3
   },
   "file_extension": ".py",
   "mimetype": "text/x-python",
   "name": "python",
   "nbconvert_exporter": "python",
   "pygments_lexer": "ipython3",
   "version": "3.9.12"
  }
 },
 "nbformat": 4,
 "nbformat_minor": 5
}
